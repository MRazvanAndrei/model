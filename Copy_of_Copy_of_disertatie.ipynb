{
  "nbformat": 4,
  "nbformat_minor": 0,
  "metadata": {
    "colab": {
      "provenance": [],
      "authorship_tag": "ABX9TyNLTpPxJW1UfLydbW3g5gHM"
    },
    "kernelspec": {
      "name": "python3",
      "display_name": "Python 3"
    },
    "language_info": {
      "name": "python"
    }
  },
  "cells": [
    {
      "cell_type": "markdown",
      "source": [
        "Facem import librariilor necesare"
      ],
      "metadata": {
        "id": "zVy87f4HrGkQ"
      }
    },
    {
      "cell_type": "code",
      "execution_count": null,
      "metadata": {
        "id": "T7vgZV76qdZ5"
      },
      "outputs": [],
      "source": [
        "!pip install -q tflite-model-maker"
      ]
    },
    {
      "cell_type": "code",
      "source": [
        "from tflite_model_maker import image_classifier\n",
        "from tflite_model_maker.image_classifier import DataLoader\n",
        "\n",
        "import tensorflow as tf\n",
        "assert tf.__version__.startswith('2')\n",
        "\n",
        "import matplotlib.pyplot as plt\n",
        "import numpy as np"
      ],
      "metadata": {
        "id": "Oa2TXBkTqq7b"
      },
      "execution_count": null,
      "outputs": []
    },
    {
      "cell_type": "markdown",
      "source": [
        "Luam pozele clasate si modificate corespunzator"
      ],
      "metadata": {
        "id": "ju4m4gCTrT9_"
      }
    },
    {
      "cell_type": "code",
      "source": [
        "!unzip numbers.zip"
      ],
      "metadata": {
        "id": "LElsBY1VqsLL"
      },
      "execution_count": null,
      "outputs": []
    },
    {
      "cell_type": "markdown",
      "source": [
        "Andrenam modelul pentru a recunoaste cifrele din imagini"
      ],
      "metadata": {
        "id": "UMNM50oJrbUh"
      }
    },
    {
      "cell_type": "code",
      "source": [
        "data = DataLoader.from_folder('numbers/')\n",
        "train_data, test_data = data.split(0.9)"
      ],
      "metadata": {
        "id": "reOhDycHqvBW"
      },
      "execution_count": null,
      "outputs": []
    },
    {
      "cell_type": "code",
      "source": [
        "model = image_classifier.create(train_data)"
      ],
      "metadata": {
        "id": "fXtror0nqxoO"
      },
      "execution_count": null,
      "outputs": []
    },
    {
      "cell_type": "markdown",
      "source": [
        "Evaluam modelul si testam"
      ],
      "metadata": {
        "id": "QNmFa7Hero-w"
      }
    },
    {
      "cell_type": "code",
      "source": [
        "loss, accuracy = model.evaluate(test_data)"
      ],
      "metadata": {
        "id": "zPe7fmmdqzAQ"
      },
      "execution_count": null,
      "outputs": []
    },
    {
      "cell_type": "markdown",
      "source": [
        "Exportam modelul creat"
      ],
      "metadata": {
        "id": "9jxVcGanrzbn"
      }
    },
    {
      "cell_type": "code",
      "source": [
        "model.export(export_dir='.')"
      ],
      "metadata": {
        "id": "tPGVgI1Nq0cr"
      },
      "execution_count": null,
      "outputs": []
    },
    {
      "cell_type": "code",
      "source": [
        "from google.colab import files\n",
        "files.download('tag-price-reader.tflite')"
      ],
      "metadata": {
        "id": "5e92eG1_q2FT"
      },
      "execution_count": null,
      "outputs": []
    }
  ]
}